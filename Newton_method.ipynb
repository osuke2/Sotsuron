{
  "nbformat": 4,
  "nbformat_minor": 0,
  "metadata": {
    "colab": {
      "provenance": [],
      "authorship_tag": "ABX9TyMXbSRMyl9uGmedUqVb2CQe",
      "include_colab_link": true
    },
    "kernelspec": {
      "name": "python3",
      "display_name": "Python 3"
    },
    "language_info": {
      "name": "python"
    }
  },
  "cells": [
    {
      "cell_type": "markdown",
      "metadata": {
        "id": "view-in-github",
        "colab_type": "text"
      },
      "source": [
        "<a href=\"https://colab.research.google.com/github/osuke2/Sotsuron/blob/master/Newton_method.ipynb\" target=\"_parent\"><img src=\"https://colab.research.google.com/assets/colab-badge.svg\" alt=\"Open In Colab\"/></a>"
      ]
    },
    {
      "cell_type": "code",
      "source": [
        "from sympy import symbols, diff, log, sqrt, N\n",
        "\n",
        "def newton_method(f, x0, tol=1e-6, max_iter=100):\n",
        "    x, r, a, a1, a2, w0, w1, w2, b, p0, p1 = symbols('x r a a1 a2 w0 w1 w2 b p0 p1')\n",
        "    df = diff(f, x)\n",
        "\n",
        "    for i in range(max_iter):\n",
        "        # ここでa1, a2の値を更新\n",
        "        # 評価する際にはx0での値を使用\n",
        "        params = {x: x0, r: 0.05, a:3, w0:1, w1:1.5, w2:2, b:0.5, p0:0.6, p1:0.4}\n",
        "        a1_val = N((((b*((1+r)**2)*((1+r)*x0+w1))-3*(1+r)*w2-2*b*p0*(1+r)*w2-b*p1*(1+r)*w2)+(((b*((1+r)**2)*((1+r)*x0+w1))-3*(1+r)*w2-2*b*p0*(1+r)*w2-b*p1*(1+r)*w2)**2-4*((1+b)*(1+0.05)**2)*(2*(w2**2)*b*(1+p0)*(1+r)*((1+r)*x*w2*+w1*w2)))*0.5 / (2*(1+b)*(1+0.05)**2)))\n",
        "        a2_val = N((((b*((1+r)**2)*((1+r)*x0+w1))-3*(1+r)*w2-2*b*p1*(1+r)*w2-b*p0*(1+r)*w2)+(((b*((1+r)**2)*((1+r)*x0+w1))-3*(1+r)*w2-2*b*p1*(1+r)*w2-b*p0*(1+r)*w2)**2-4*((1+b)*(1+0.05)**2)*(2*(w2**2)*b*(1+p1)*(1+r)*((1+r)*x*w2*+w1*w2)))*0.5 / (2*(1+b)*(1+0.05)**2)))\n",
        "        params.update({a1: a1_val, a2: a2_val})\n",
        "        a1_val = N(a1_val.subs(params))\n",
        "        a2_val = N(a2_val.subs(params))\n",
        "        print(\"a1の値:\", N(a1_val))\n",
        "        print(\"a2の値:\", N(a2_val))\n",
        "\n",
        "        fx = f.subs(params)\n",
        "\n",
        "        # logの引数が0以下かどうかの評価\n",
        "        if fx.is_real is False or fx <= 0:\n",
        "            print(\"エラー: logの中身が0以下になりました。\")\n",
        "            return None\n",
        "\n",
        "        dfx = df.subs(params)\n",
        "        if dfx == 0:\n",
        "            print(\"導関数が0になりました。\")\n",
        "            return None\n",
        "\n",
        "        x0 = x0 - fx / dfx\n",
        "\n",
        "        if abs(fx) < tol:\n",
        "            return x0\n",
        "\n",
        "    return None\n",
        "\n",
        "# 関数を定義\n",
        "x, r, a, a1, a2, w0, w1, w2, b, p0, p1 = symbols('x r a a1 a2 w0 w1 w2 b p0 p1')\n",
        "f = log((1+r)*a+w0-x)+b*p0*log((1+r)*x+w1-a1)+b*p0**2*log((1+r)*a1+w2)+b*p0*p1*log((1+r)*a1+2*w2)\\\n",
        "    +b*p1*log((1+r)*x+w1-a2)+b*p1**2*log((1+r)*a2+w2)+b*p0*p1*log((1+r)*a2+2*w2)\n",
        "\n",
        "x0 = -0.04  # 初期推定値を設定\n",
        "\n",
        "solution = newton_method(f, x0)  # ニュートン法を適用して解を求める\n",
        "\n",
        "if solution is not None:\n",
        "    print(\"x=\", solution)\n",
        "else:\n",
        "    print(\"解なしまたはエラーが発生しました。\")\n",
        "\n",
        "\n"
      ],
      "metadata": {
        "colab": {
          "base_uri": "https://localhost:8080/"
        },
        "id": "bGzyCVkgdmL7",
        "outputId": "3f721d40-9c06-4330-ee23-5f684b62c723"
      },
      "execution_count": 34,
      "outputs": [
        {
          "output_type": "stream",
          "name": "stdout",
          "text": [
            "a1の値: 2.30234145041667\n",
            "a2の値: 1.85169145041667\n",
            "エラー: logの中身が0以下になりました。\n",
            "解なしまたはエラーが発生しました。\n"
          ]
        }
      ]
    }
  ]
}